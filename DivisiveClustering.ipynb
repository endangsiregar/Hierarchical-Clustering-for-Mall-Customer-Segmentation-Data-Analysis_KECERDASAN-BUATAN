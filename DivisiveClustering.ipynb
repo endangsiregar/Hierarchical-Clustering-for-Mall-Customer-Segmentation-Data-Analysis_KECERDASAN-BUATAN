{
 "cells": [
  {
   "cell_type": "code",
   "execution_count": 1,
   "id": "560cfef3",
   "metadata": {},
   "outputs": [],
   "source": [
    "import pandas as pd\n",
    "import numpy as np\n",
    "import random as rd\n",
    "import matplotlib.pyplot as plt\n",
    "from sklearn.cluster import AgglomerativeClustering"
   ]
  },
  {
   "cell_type": "code",
   "execution_count": 2,
   "id": "64422444",
   "metadata": {},
   "outputs": [
    {
     "data": {
      "text/html": [
       "<div>\n",
       "<style scoped>\n",
       "    .dataframe tbody tr th:only-of-type {\n",
       "        vertical-align: middle;\n",
       "    }\n",
       "\n",
       "    .dataframe tbody tr th {\n",
       "        vertical-align: top;\n",
       "    }\n",
       "\n",
       "    .dataframe thead th {\n",
       "        text-align: right;\n",
       "    }\n",
       "</style>\n",
       "<table border=\"1\" class=\"dataframe\">\n",
       "  <thead>\n",
       "    <tr style=\"text-align: right;\">\n",
       "      <th></th>\n",
       "      <th>CustomerID</th>\n",
       "      <th>Gender</th>\n",
       "      <th>Age</th>\n",
       "      <th>Annual Income (k$)</th>\n",
       "      <th>Spending Score (1-100)</th>\n",
       "    </tr>\n",
       "  </thead>\n",
       "  <tbody>\n",
       "    <tr>\n",
       "      <th>0</th>\n",
       "      <td>1</td>\n",
       "      <td>Male</td>\n",
       "      <td>19</td>\n",
       "      <td>15</td>\n",
       "      <td>39</td>\n",
       "    </tr>\n",
       "    <tr>\n",
       "      <th>1</th>\n",
       "      <td>2</td>\n",
       "      <td>Male</td>\n",
       "      <td>21</td>\n",
       "      <td>15</td>\n",
       "      <td>81</td>\n",
       "    </tr>\n",
       "    <tr>\n",
       "      <th>2</th>\n",
       "      <td>3</td>\n",
       "      <td>Female</td>\n",
       "      <td>20</td>\n",
       "      <td>16</td>\n",
       "      <td>6</td>\n",
       "    </tr>\n",
       "    <tr>\n",
       "      <th>3</th>\n",
       "      <td>4</td>\n",
       "      <td>Female</td>\n",
       "      <td>23</td>\n",
       "      <td>16</td>\n",
       "      <td>77</td>\n",
       "    </tr>\n",
       "    <tr>\n",
       "      <th>4</th>\n",
       "      <td>5</td>\n",
       "      <td>Female</td>\n",
       "      <td>31</td>\n",
       "      <td>17</td>\n",
       "      <td>40</td>\n",
       "    </tr>\n",
       "  </tbody>\n",
       "</table>\n",
       "</div>"
      ],
      "text/plain": [
       "   CustomerID  Gender  Age  Annual Income (k$)  Spending Score (1-100)\n",
       "0           1    Male   19                  15                      39\n",
       "1           2    Male   21                  15                      81\n",
       "2           3  Female   20                  16                       6\n",
       "3           4  Female   23                  16                      77\n",
       "4           5  Female   31                  17                      40"
      ]
     },
     "execution_count": 2,
     "metadata": {},
     "output_type": "execute_result"
    }
   ],
   "source": [
    "# Load the data\n",
    "df = pd.read_csv('./Mall_Customers.csv')\n",
    "df.head()"
   ]
  },
  {
   "cell_type": "code",
   "execution_count": 3,
   "id": "6b2324ce",
   "metadata": {},
   "outputs": [],
   "source": [
    "X = df.iloc[:,[3,4]].values"
   ]
  },
  {
   "cell_type": "code",
   "execution_count": 5,
   "id": "abb7c621",
   "metadata": {},
   "outputs": [
    {
     "data": {
      "text/plain": [
       "CustomerID                0\n",
       "Gender                    0\n",
       "Age                       0\n",
       "Annual Income (k$)        0\n",
       "Spending Score (1-100)    0\n",
       "dtype: int64"
      ]
     },
     "execution_count": 5,
     "metadata": {},
     "output_type": "execute_result"
    }
   ],
   "source": [
    "# Dendrogram for Divisive Clustering\n",
    "from scipy.cluster.hierarchy import dendrogram, linkage"
   ]
  },
  {
   "cell_type": "code",
   "execution_count": 30,
   "id": "78475342",
   "metadata": {},
   "outputs": [
    {
     "name": "stdout",
     "output_type": "stream",
     "text": [
      "     CustomerID  Gender  Age  Annual Income (k$)  Spending Score (1-100)  \\\n",
      "0             1    Male   19                  15                      39   \n",
      "1             2    Male   21                  15                      81   \n",
      "2             3  Female   20                  16                       6   \n",
      "3             4  Female   23                  16                      77   \n",
      "4             5  Female   31                  17                      40   \n",
      "..          ...     ...  ...                 ...                     ...   \n",
      "195         196  Female   35                 120                      79   \n",
      "196         197  Female   45                 126                      28   \n",
      "197         198    Male   32                 126                      74   \n",
      "198         199    Male   32                 137                      18   \n",
      "199         200    Male   30                 137                      83   \n",
      "\n",
      "     Target_Divisive  \n",
      "0                4.0  \n",
      "1                4.0  \n",
      "2                4.0  \n",
      "3                4.0  \n",
      "4                4.0  \n",
      "..               ...  \n",
      "195              0.0  \n",
      "196              0.0  \n",
      "197              0.0  \n",
      "198              0.0  \n",
      "199              0.0  \n",
      "\n",
      "[200 rows x 6 columns]\n"
     ]
    }
   ],
   "source": [
    "from sklearn.cluster import AgglomerativeClustering\n",
    "import numpy as np\n",
    "\n",
    "def divisive_clustering(X, n_clusters):\n",
    "    labels = np.zeros(X.shape[0])\n",
    "    current_label = 0\n",
    "    \n",
    "    while current_label < n_clusters:\n",
    "        # Perform agglomerative clustering\n",
    "        agg_cluster = AgglomerativeClustering(n_clusters=2, affinity='euclidean', linkage='ward')\n",
    "        current_labels = agg_cluster.fit_predict(X)\n",
    "\n",
    "        # Split the cluster with the largest number of points\n",
    "        cluster_to_split = np.argmax(np.bincount(current_labels))\n",
    "        indices_to_split = np.where(current_labels == cluster_to_split)[0]\n",
    "\n",
    "        labels[indices_to_split] = current_label\n",
    "        current_label += 1\n",
    "\n",
    "    return labels\n",
    "\n",
    "# Perform Divisive Clustering with 5 clusters\n",
    "divisive_labels = divisive_clustering(X, 5)\n",
    "\n",
    "# Ensure that the final divisive labels match the length of the original data\n",
    "assert len(divisive_labels) == len(X), \"Length mismatch between divisive labels and data\"\n",
    "\n",
    "# Assign the divisive cluster labels to the dataframe\n",
    "df['Target_Divisive'] = divisive_labels\n",
    "\n",
    "# Display the dataframe with divisive cluster labels\n",
    "print(df)\n"
   ]
  },
  {
   "cell_type": "code",
   "execution_count": 31,
   "id": "437497fc",
   "metadata": {},
   "outputs": [],
   "source": [
    "# Perform Divisive Clustering with 5 clusters\n",
    "divisive_labels = divisive_clustering(X, 5)"
   ]
  },
  {
   "cell_type": "code",
   "execution_count": 32,
   "id": "5540c3be",
   "metadata": {},
   "outputs": [
    {
     "name": "stdout",
     "output_type": "stream",
     "text": [
      "[4. 4. 4. 4. 4. 4. 4. 4. 4. 4. 4. 4. 4. 4. 4. 4. 4. 4. 4. 4. 4. 4. 4. 4.\n",
      " 4. 4. 4. 4. 4. 4. 4. 4. 4. 4. 4. 4. 4. 4. 4. 4. 4. 4. 4. 4. 4. 4. 4. 4.\n",
      " 4. 4. 4. 4. 4. 4. 4. 4. 4. 4. 4. 4. 4. 4. 4. 4. 4. 4. 4. 4. 4. 4. 4. 4.\n",
      " 4. 4. 4. 4. 4. 4. 4. 4. 4. 4. 4. 4. 4. 4. 4. 4. 4. 4. 4. 4. 4. 4. 4. 4.\n",
      " 4. 4. 4. 4. 4. 4. 4. 4. 4. 4. 4. 4. 4. 4. 4. 4. 4. 4. 4. 4. 4. 4. 4. 4.\n",
      " 4. 4. 4. 0. 4. 0. 4. 0. 0. 0. 0. 0. 4. 0. 0. 0. 0. 0. 0. 0. 0. 0. 4. 0.\n",
      " 0. 0. 4. 0. 0. 0. 0. 0. 0. 0. 0. 0. 0. 0. 0. 0. 4. 0. 0. 0. 0. 0. 0. 0.\n",
      " 0. 0. 0. 0. 0. 0. 0. 0. 0. 0. 0. 0. 0. 0. 0. 0. 0. 0. 0. 0. 0. 0. 0. 0.\n",
      " 0. 0. 0. 0. 0. 0. 0. 0.]\n"
     ]
    }
   ],
   "source": [
    "from sklearn.cluster import AgglomerativeClustering\n",
    "import numpy as np\n",
    "\n",
    "def divisive_clustering(X, n_clusters):\n",
    "    labels = np.zeros(X.shape[0])\n",
    "    current_label = 0\n",
    "    \n",
    "    while current_label < n_clusters:\n",
    "        # Perform agglomerative clustering\n",
    "        agg_cluster = AgglomerativeClustering(n_clusters=2, affinity='euclidean', linkage='ward')\n",
    "        current_labels = agg_cluster.fit_predict(X)\n",
    "\n",
    "        # Split the cluster with the largest number of points\n",
    "        cluster_to_split = np.argmax(np.bincount(current_labels))\n",
    "        indices_to_split = np.where(current_labels == cluster_to_split)[0]\n",
    "\n",
    "        labels[indices_to_split] = current_label\n",
    "        current_label += 1\n",
    "\n",
    "    return labels\n",
    "\n",
    "# Usage\n",
    "n_clusters_divisive = 5  # Set the desired number of divisive clusters\n",
    "divisive_labels = divisive_clustering(X, n_clusters_divisive)\n",
    "print(divisive_labels)\n"
   ]
  },
  {
   "cell_type": "code",
   "execution_count": 33,
   "id": "2fbb1715",
   "metadata": {},
   "outputs": [
    {
     "data": {
      "text/plain": [
       "<matplotlib.collections.PathCollection at 0x147a421d850>"
      ]
     },
     "execution_count": 33,
     "metadata": {},
     "output_type": "execute_result"
    },
    {
     "data": {
      "image/png": "[encoded data removed]",
      "text/plain": [
       "<Figure size 640x480 with 1 Axes>"
      ]
     },
     "metadata": {},
     "output_type": "display_data"
    }
   ],
   "source": [
    "# Plot the Divisive Clustering results\n",
    "plt.scatter(X[divisive_labels == 0, 0], X[divisive_labels == 0, 1], label='Cluster 1')\n",
    "plt.scatter(X[divisive_labels == 1, 0], X[divisive_labels == 1, 1], label='Cluster 2')\n",
    "plt.scatter(X[divisive_labels == 2, 0], X[divisive_labels == 2, 1], label='Cluster 3')\n",
    "plt.scatter(X[divisive_labels == 3, 0], X[divisive_labels == 3, 1], label='Cluster 4')\n",
    "plt.scatter(X[divisive_labels == 4, 0], X[divisive_labels == 4, 1], label='Cluster 5')"
   ]
  },
  {
   "cell_type": "code",
   "execution_count": 29,
   "id": "27d29663",
   "metadata": {},
   "outputs": [
    {
     "data": {
      "image/png": "[encoded data removed]",
      "text/plain": [
       "<Figure size 640x480 with 1 Axes>"
      ]
     },
     "metadata": {},
     "output_type": "display_data"
    }
   ],
   "source": [
    "# Plot the Divisive Clustering results\n",
    "unique_labels = np.unique(divisive_labels)\n",
    "\n",
    "for label in unique_labels:\n",
    "    plt.scatter(X[divisive_labels == label, 0], X[divisive_labels == label, 1], label=f'Cluster {label + 1}')\n",
    "\n",
    "plt.title('Divisive Clustering of Mall Customers')\n",
    "plt.xlabel('Total Income')\n",
    "plt.ylabel('Spending Score')\n",
    "\n",
    "# Specify labels for the legend\n",
    "legend_labels = [f'Cluster {label + 1}' for label in unique_labels]\n",
    "plt.legend(labels=legend_labels)\n",
    "\n",
    "plt.show()\n"
   ]
  },
  {
   "cell_type": "code",
   "execution_count": 34,
   "id": "4b92b780",
   "metadata": {},
   "outputs": [
    {
     "name": "stdout",
     "output_type": "stream",
     "text": [
      "     CustomerID  Gender  Age  Annual Income (k$)  Spending Score (1-100)  \\\n",
      "0             1    Male   19                  15                      39   \n",
      "1             2    Male   21                  15                      81   \n",
      "2             3  Female   20                  16                       6   \n",
      "3             4  Female   23                  16                      77   \n",
      "4             5  Female   31                  17                      40   \n",
      "..          ...     ...  ...                 ...                     ...   \n",
      "195         196  Female   35                 120                      79   \n",
      "196         197  Female   45                 126                      28   \n",
      "197         198    Male   32                 126                      74   \n",
      "198         199    Male   32                 137                      18   \n",
      "199         200    Male   30                 137                      83   \n",
      "\n",
      "     Target_Divisive  \n",
      "0                4.0  \n",
      "1                4.0  \n",
      "2                4.0  \n",
      "3                4.0  \n",
      "4                4.0  \n",
      "..               ...  \n",
      "195              0.0  \n",
      "196              0.0  \n",
      "197              0.0  \n",
      "198              0.0  \n",
      "199              0.0  \n",
      "\n",
      "[200 rows x 6 columns]\n"
     ]
    }
   ],
   "source": [
    "# Display the dataframe with divisive cluster labels\n",
    "print(df)"
   ]
  }
 ],
 "metadata": {
  "kernelspec": {
   "display_name": "Python 3 (ipykernel)",
   "language": "python",
   "name": "python3"
  },
  "language_info": {
   "codemirror_mode": {
    "name": "ipython",
    "version": 3
   },
   "file_extension": ".py",
   "mimetype": "text/x-python",
   "name": "python",
   "nbconvert_exporter": "python",
   "pygments_lexer": "ipython3",
   "version": "3.9.12"
  }
 },
 "nbformat": 4,
 "nbformat_minor": 5
}
